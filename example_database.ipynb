{
 "cells": [
  {
   "cell_type": "code",
   "execution_count": 1,
   "id": "8dd0207e",
   "metadata": {},
   "outputs": [],
   "source": [
    "import conexion_a_db as db"
   ]
  },
  {
   "cell_type": "code",
   "execution_count": 3,
   "id": "12cc385c",
   "metadata": {},
   "outputs": [
    {
     "data": {
      "text/html": [
       "<div>\n",
       "<style scoped>\n",
       "    .dataframe tbody tr th:only-of-type {\n",
       "        vertical-align: middle;\n",
       "    }\n",
       "\n",
       "    .dataframe tbody tr th {\n",
       "        vertical-align: top;\n",
       "    }\n",
       "\n",
       "    .dataframe thead th {\n",
       "        text-align: right;\n",
       "    }\n",
       "</style>\n",
       "<table border=\"1\" class=\"dataframe\">\n",
       "  <thead>\n",
       "    <tr style=\"text-align: right;\">\n",
       "      <th></th>\n",
       "      <th>Fecha</th>\n",
       "      <th>Pais</th>\n",
       "      <th>Valor</th>\n",
       "    </tr>\n",
       "  </thead>\n",
       "  <tbody>\n",
       "    <tr>\n",
       "      <th>0</th>\n",
       "      <td>2021-01-04 00:00:00</td>\n",
       "      <td>Eurozona EuroStoxx</td>\n",
       "      <td>3564.390</td>\n",
       "    </tr>\n",
       "    <tr>\n",
       "      <th>1</th>\n",
       "      <td>2021-01-04 00:00:00</td>\n",
       "      <td>China Shanghai</td>\n",
       "      <td>5267.720</td>\n",
       "    </tr>\n",
       "    <tr>\n",
       "      <th>2</th>\n",
       "      <td>2021-01-04 00:00:00</td>\n",
       "      <td>Alemania DAX</td>\n",
       "      <td>13726.740</td>\n",
       "    </tr>\n",
       "    <tr>\n",
       "      <th>3</th>\n",
       "      <td>2021-01-04 00:00:00</td>\n",
       "      <td>Canada S&amp;P</td>\n",
       "      <td>17527.770</td>\n",
       "    </tr>\n",
       "    <tr>\n",
       "      <th>4</th>\n",
       "      <td>2021-01-04 00:00:00</td>\n",
       "      <td>Australia S&amp;P</td>\n",
       "      <td>6684.247</td>\n",
       "    </tr>\n",
       "    <tr>\n",
       "      <th>5</th>\n",
       "      <td>2021-01-04 00:00:00</td>\n",
       "      <td>Chile IPSA</td>\n",
       "      <td>4257.440</td>\n",
       "    </tr>\n",
       "    <tr>\n",
       "      <th>6</th>\n",
       "      <td>2021-01-04 00:00:00</td>\n",
       "      <td>Chile IGPA</td>\n",
       "      <td>21360.310</td>\n",
       "    </tr>\n",
       "    <tr>\n",
       "      <th>7</th>\n",
       "      <td>2021-01-04 00:00:00</td>\n",
       "      <td>Mexico Mexbol</td>\n",
       "      <td>44703.000</td>\n",
       "    </tr>\n",
       "    <tr>\n",
       "      <th>8</th>\n",
       "      <td>2021-01-04 00:00:00</td>\n",
       "      <td>Brasil Ibovespa</td>\n",
       "      <td>118854.710</td>\n",
       "    </tr>\n",
       "    <tr>\n",
       "      <th>9</th>\n",
       "      <td>2021-01-04 00:00:00</td>\n",
       "      <td>Usa DowJones</td>\n",
       "      <td>30223.890</td>\n",
       "    </tr>\n",
       "  </tbody>\n",
       "</table>\n",
       "</div>"
      ],
      "text/plain": [
       "                 Fecha                Pais       Valor\n",
       "0  2021-01-04 00:00:00  Eurozona EuroStoxx    3564.390\n",
       "1  2021-01-04 00:00:00      China Shanghai    5267.720\n",
       "2  2021-01-04 00:00:00        Alemania DAX   13726.740\n",
       "3  2021-01-04 00:00:00          Canada S&P   17527.770\n",
       "4  2021-01-04 00:00:00       Australia S&P    6684.247\n",
       "5  2021-01-04 00:00:00          Chile IPSA    4257.440\n",
       "6  2021-01-04 00:00:00          Chile IGPA   21360.310\n",
       "7  2021-01-04 00:00:00       Mexico Mexbol   44703.000\n",
       "8  2021-01-04 00:00:00     Brasil Ibovespa  118854.710\n",
       "9  2021-01-04 00:00:00        Usa DowJones   30223.890"
      ]
     },
     "execution_count": 3,
     "metadata": {},
     "output_type": "execute_result"
    }
   ],
   "source": [
    "str = \"./DATA/db_data_bbg.db\"\n",
    "\n",
    "equity = db.Descargar_DF(str, 'equity')\n",
    "equity.head(10)"
   ]
  }
 ],
 "metadata": {
  "kernelspec": {
   "display_name": "base",
   "language": "python",
   "name": "python3"
  },
  "language_info": {
   "codemirror_mode": {
    "name": "ipython",
    "version": 3
   },
   "file_extension": ".py",
   "mimetype": "text/x-python",
   "name": "python",
   "nbconvert_exporter": "python",
   "pygments_lexer": "ipython3",
   "version": "3.9.7"
  }
 },
 "nbformat": 4,
 "nbformat_minor": 5
}

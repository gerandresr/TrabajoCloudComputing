{
 "cells": [
  {
   "cell_type": "code",
   "execution_count": 2,
   "id": "315faed7",
   "metadata": {},
   "outputs": [],
   "source": [
    "from data_getters import *"
   ]
  },
  {
   "cell_type": "code",
   "execution_count": 3,
   "id": "f63448e1",
   "metadata": {},
   "outputs": [],
   "source": [
    "# Primero se construye el dataset con el cuál se va a trabajar\n",
    "data = get_macro_dataframe()"
   ]
  },
  {
   "cell_type": "markdown",
   "id": "519a5142",
   "metadata": {},
   "source": [
    "### Obtención de datos y variables agregadas\n",
    "La data tiene las siguientes variables de base:\n",
    "- Inflación Chile\n",
    "- Inflación USA\n",
    "- TPM Chile\n",
    "- TPM USA\n",
    "- IPC Chile\n",
    "- IPC USA\n",
    "- S&P 500\n",
    "- IPSA\n",
    "- USDCLP\n",
    "\n",
    "\n",
    "Se agregan los siguientes indicadores:\n",
    "\n",
    "- Categoría TPM (Baja, Media, Alta)\n",
    "- Dummies de cambio en la TPM (1 si cambió ese día)\n",
    "- Dummies de nuevos máximos en las Bolsas (1 si hay nuevo max en SP500 o IPSA)\n",
    "- Diferencial de Tasas de Política Monetaria.\n",
    "- Dummies de si tasa pertenece a una categoría.\n",
    "- Dummy de si el diferencial es positivo o no."
   ]
  },
  {
   "cell_type": "code",
   "execution_count": 4,
   "id": "1dcada70",
   "metadata": {},
   "outputs": [
    {
     "data": {
      "text/plain": [
       "Index(['Fecha', 'inflacion_cl', 'inflacion_us', 'tpm_cl', 'tpm_us', 'ipc_cl',\n",
       "       'ipc_us', 'sp500', 'ipsa', 'usdclp', 'tpm_cl_cat', 'tpm_us_cat',\n",
       "       'tpm_cl_is_0', 'tpm_us_is_0', 'tpm_cl_is_1', 'tpm_us_is_1',\n",
       "       'tpm_cl_is_2', 'tpm_us_is_2', 'tpm_cl_change', 'tpm_us_change',\n",
       "       'new_max_sp500', 'new_max_ipsa', 'new_max_usdclp', 'tpm_diff',\n",
       "       'tpm_diff_pos'],\n",
       "      dtype='object')"
      ]
     },
     "execution_count": 4,
     "metadata": {},
     "output_type": "execute_result"
    }
   ],
   "source": [
    "data.columns"
   ]
  },
  {
   "cell_type": "markdown",
   "id": "985a3557",
   "metadata": {},
   "source": [
    "### Variable a predecir\n",
    "Se define el direccional como :\n",
    "\n",
    "$$\n",
    "y_t = USDCLP_{t+1}-USDCLP_{t} > 0\n",
    "$$\n",
    "\n",
    "Por lo que se busca aplicar un modelo de clasificación que permita predecir si el closing del USDCLP del día siguiente va a ser más alto que el de hoy."
   ]
  },
  {
   "cell_type": "code",
   "execution_count": 5,
   "id": "49285fba",
   "metadata": {},
   "outputs": [],
   "source": [
    "# Definimos nuestra variable objetivo\n",
    "isup = (data['usdclp'].shift(-1) - data['usdclp']) > 0\n",
    "\n",
    "# Lo agregamos al dataframe\n",
    "data['isup'] = isup\n",
    "\n",
    "# Eliminamos filas con valores nulos (en este caso el último día)\n",
    "data = data.dropna()"
   ]
  },
  {
   "cell_type": "markdown",
   "id": "84c050d7",
   "metadata": {},
   "source": [
    "#### Split y Entrenamiento"
   ]
  },
  {
   "cell_type": "code",
   "execution_count": 6,
   "id": "2d6b8364",
   "metadata": {},
   "outputs": [
    {
     "data": {
      "text/plain": [
       "Index(['Fecha', 'inflacion_cl', 'inflacion_us', 'tpm_cl', 'tpm_us', 'ipc_cl',\n",
       "       'ipc_us', 'sp500', 'ipsa', 'usdclp', 'tpm_cl_cat', 'tpm_us_cat',\n",
       "       'tpm_cl_is_0', 'tpm_us_is_0', 'tpm_cl_is_1', 'tpm_us_is_1',\n",
       "       'tpm_cl_is_2', 'tpm_us_is_2', 'tpm_cl_change', 'tpm_us_change',\n",
       "       'new_max_sp500', 'new_max_ipsa', 'new_max_usdclp', 'tpm_diff',\n",
       "       'tpm_diff_pos', 'isup'],\n",
       "      dtype='object')"
      ]
     },
     "execution_count": 6,
     "metadata": {},
     "output_type": "execute_result"
    }
   ],
   "source": [
    "data.columns"
   ]
  },
  {
   "cell_type": "code",
   "execution_count": 7,
   "id": "61bb3423",
   "metadata": {},
   "outputs": [],
   "source": [
    "from sklearn.model_selection import TimeSeriesSplit\n",
    "from sklearn.ensemble import RandomForestClassifier, AdaBoostClassifier\n",
    "from sklearn.metrics import classification_report, confusion_matrix\n",
    "from sklearn.preprocessing import StandardScaler\n",
    "from sklearn.pipeline import Pipeline\n",
    "\n",
    "# Definimos las features y la variable objetivo\n",
    "features = [c for c in data.columns if c not in ['isup', 'usdclp', \"Fecha\"]]\n",
    "X = data[features]\n",
    "y = data['isup']"
   ]
  },
  {
   "cell_type": "code",
   "execution_count": 8,
   "id": "f427721a",
   "metadata": {},
   "outputs": [],
   "source": [
    "from sklearn.model_selection import train_test_split\n",
    "X_train, X_test, y_train, y_test = train_test_split(X, y, test_size=0.2, shuffle=False)"
   ]
  },
  {
   "cell_type": "code",
   "execution_count": 9,
   "id": "31f62e4e",
   "metadata": {},
   "outputs": [],
   "source": [
    "# Hacemos el scaling de los features separando X_train y X_test, no queremos data leakage\n",
    "from sklearn.preprocessing import StandardScaler\n",
    "scaler= StandardScaler()\n",
    "scaler.fit(X_train)\n",
    "X_train = scaler.transform(X_train)\n",
    "X_test = scaler.transform(X_test)"
   ]
  },
  {
   "cell_type": "code",
   "execution_count": 10,
   "id": "1e1ec4d1",
   "metadata": {},
   "outputs": [],
   "source": [
    "# Se entrenan los modelos\n",
    "from sklearn.ensemble import RandomForestClassifier, AdaBoostClassifier\n",
    "from sklearn.neural_network import MLPClassifier\n",
    "\n",
    "model_rf = RandomForestClassifier(n_estimators=100, random_state=42)\n",
    "model_rf.fit(X_train, y_train)\n",
    "y_pred_rf = model_rf.predict(X_test)\n",
    "\n",
    "model_ab = AdaBoostClassifier(n_estimators=100, random_state=42)\n",
    "model_ab.fit(X_train, y_train)\n",
    "y_pred_ab = model_ab.predict(X_test)\n",
    "\n",
    "model_mlp = MLPClassifier(hidden_layer_sizes=(50, 25), max_iter=500, random_state=42)\n",
    "model_mlp.fit(X_train, y_train)\n",
    "y_pred_mlp = model_mlp.predict(X_test)"
   ]
  },
  {
   "cell_type": "code",
   "execution_count": 11,
   "id": "7053ef4a",
   "metadata": {},
   "outputs": [],
   "source": [
    "# Metrics \n",
    "from sklearn.metrics import accuracy_score, precision_score, recall_score, f1_score, roc_auc_score\n",
    "\n",
    "def print_metrics(y_test, y_pred, model_name):\n",
    "    print(f\"Metrics for {model_name}:\")\n",
    "    print(f\"Accuracy: {accuracy_score(y_test, y_pred):.4f}\")\n",
    "    print(f\"Precision: {precision_score(y_test, y_pred):.4f}\")\n",
    "    print(f\"Recall: {recall_score(y_test, y_pred):.4f}\")\n",
    "    print(f\"F1 Score: {f1_score(y_test, y_pred):.4f}\")\n",
    "    print(f\"ROC AUC: {roc_auc_score(y_test, y_pred):.4f}\")\n",
    "    print(\"\\n\")"
   ]
  },
  {
   "cell_type": "code",
   "execution_count": 12,
   "id": "358c87a8",
   "metadata": {},
   "outputs": [
    {
     "name": "stdout",
     "output_type": "stream",
     "text": [
      "Metrics for Random Forest:\n",
      "Accuracy: 0.5330\n",
      "Precision: 0.3333\n",
      "Recall: 0.0095\n",
      "F1 Score: 0.0185\n",
      "ROC AUC: 0.4966\n",
      "\n",
      "\n",
      "Metrics for AdaBoost:\n",
      "Accuracy: 0.5683\n",
      "Precision: 0.5946\n",
      "Recall: 0.2095\n",
      "F1 Score: 0.3099\n",
      "ROC AUC: 0.5433\n",
      "\n",
      "\n",
      "Metrics for MLP Classifier:\n",
      "Accuracy: 0.5022\n",
      "Precision: 0.4726\n",
      "Recall: 0.6571\n",
      "F1 Score: 0.5498\n",
      "ROC AUC: 0.5130\n",
      "\n",
      "\n"
     ]
    }
   ],
   "source": [
    "print_metrics(y_test, y_pred_rf, \"Random Forest\")\n",
    "print_metrics(y_test, y_pred_ab, \"AdaBoost\")\n",
    "print_metrics(y_test, y_pred_mlp, \"MLP Classifier\")"
   ]
  },
  {
   "cell_type": "code",
   "execution_count": 13,
   "id": "ea226bb6",
   "metadata": {},
   "outputs": [
    {
     "data": {
      "text/plain": [
       "['scaler.pkl']"
      ]
     },
     "execution_count": 13,
     "metadata": {},
     "output_type": "execute_result"
    }
   ],
   "source": [
    "# Se guarda el MLP Classifier ya que es el que mejor resultado tuvo en términos de F1-Score\n",
    "import joblib\n",
    "joblib.dump(model_mlp, 'model.pkl')\n",
    "\n",
    "# Se guarda el scaler\n",
    "joblib.dump(scaler, 'scaler.pkl')\n"
   ]
  }
 ],
 "metadata": {
  "kernelspec": {
   "display_name": "base",
   "language": "python",
   "name": "python3"
  },
  "language_info": {
   "codemirror_mode": {
    "name": "ipython",
    "version": 3
   },
   "file_extension": ".py",
   "mimetype": "text/x-python",
   "name": "python",
   "nbconvert_exporter": "python",
   "pygments_lexer": "ipython3",
   "version": "3.9.7"
  }
 },
 "nbformat": 4,
 "nbformat_minor": 5
}
